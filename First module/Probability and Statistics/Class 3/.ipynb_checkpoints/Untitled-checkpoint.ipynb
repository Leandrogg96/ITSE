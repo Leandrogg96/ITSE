{
 "cells": [
  {
   "cell_type": "markdown",
   "id": "e26d1c4a-f6b2-42b2-b122-9d1afbfd2e99",
   "metadata": {},
   "source": [
    "# Trabajo Practico 2"
   ]
  },
  {
   "cell_type": "markdown",
   "id": "b7aeaa79-9b31-4ea6-8acf-cc30e8f04b0e",
   "metadata": {},
   "source": [
    "### Actividad  1:\n",
    "En una clase del Instituto se preguntó a los alumnos por la cantidad de personas que viven en sus casas. Las respuestas fueron las siguientes:"
   ]
  },
  {
   "cell_type": "code",
   "execution_count": 8,
   "id": "ad7555b4-10ac-4978-87f7-d63489d524c0",
   "metadata": {},
   "outputs": [
    {
     "name": "stdout",
     "output_type": "stream",
     "text": [
      "+---------------+------------+\n",
      "| cant_personas | cant_casas |\n",
      "+---------------+------------+\n",
      "|       1       |     9      |\n",
      "|       2       |     18     |\n",
      "|       3       |     25     |\n",
      "|       4       |     20     |\n",
      "|       5       |     14     |\n",
      "|       6       |     5      |\n",
      "|       7       |     6      |\n",
      "|       8       |     3      |\n",
      "+---------------+------------+\n"
     ]
    }
   ],
   "source": [
    "import pandas as pd\n",
    "from tabulate import tabulate\n",
    "\n",
    "personas_instituto = {\n",
    "    'cant_personas': [1, 2, 3, 4, 5, 6, 7, 8],\n",
    "    'cant_casas': [9, 18, 25, 20, 14, 5, 6, 3]\n",
    "}\n",
    "\n",
    "print(tabulate(personas_instituto, headers='keys', tablefmt='pretty'))"
   ]
  },
  {
   "cell_type": "markdown",
   "id": "2a38b4e2-621c-4d29-ba2c-eca5f9d1fe7a",
   "metadata": {},
   "source": [
    "a) Construir la tabla de distribución de frecuencias."
   ]
  },
  {
   "cell_type": "markdown",
   "id": "b67a45e3-e94d-4062-be82-cee603b9f79e",
   "metadata": {},
   "source": [
    "b) Calcular media, mediana y moda. Interpretar cada medida obtenida."
   ]
  },
  {
   "cell_type": "markdown",
   "id": "06d215f8-81f7-4714-b44f-39ae6539ba4e",
   "metadata": {},
   "source": [
    "c)Calcular cuartiles 1, 2 y 3, rango intercuartílico, decil 7. Interpretar cada medida obtenida."
   ]
  },
  {
   "cell_type": "code",
   "execution_count": 106,
   "id": "2dda47d8-4ca2-4e3b-84e7-abeeab786a8d",
   "metadata": {},
   "outputs": [
    {
     "name": "stdout",
     "output_type": "stream",
     "text": [
      "3.66\n",
      "cant_personas     4.5\n",
      "cant_casas       12.5\n",
      "dtype: float64\n",
      "25\n",
      "cant_personas     4.5\n",
      "cant_casas       11.5\n",
      "dtype: float64\n",
      "cant_personas     6.000000\n",
      "cant_casas       63.714286\n",
      "dtype: float64\n",
      "cant_personas    2.449490\n",
      "cant_casas       7.982123\n",
      "dtype: float64\n"
     ]
    }
   ],
   "source": [
    "import numpy as np\n",
    "\n",
    "df_pi = pd.DataFrame(personas_instituto)\n",
    "\n",
    "\n",
    "# Calculo de la media (promedio)\n",
    "\n",
    "producto = (df_pi['cant_personas'])*(df_pi['cant_casas'])\n",
    "\n",
    "cantidad = (np.sum(df['cant_casas']))\n",
    "\n",
    "promedio = (np.sum(producto)/cantidad).round(3)\n",
    "\n",
    "print(promedio)\n",
    "\n",
    "# Calculo de la moda\n",
    "\n",
    "moda = df_pi['cant_casas'].mode()\n",
    "print(moda.iloc[-1])\n",
    "\n",
    "# Calculo de la mediana\n",
    "mediana = df_pi.median()\n",
    "print(mediana)\n",
    "\n",
    "# Calculo de la frecuencia acumulada\n",
    "frecuencia_acumulada = np.cumsum(df_pi['cant_casas'])\n",
    "#print(frecuencia_acumulada)\n",
    "\n",
    "# Calculo de la varianza\n",
    "varianza = df_pi.var()\n",
    "print(varianza)\n",
    "\n",
    "# Calculo de la desviacion estandar\n",
    "dev_standar = df_pi.std()\n",
    "print(dev_standar)"
   ]
  },
  {
   "cell_type": "code",
   "execution_count": 108,
   "id": "0c04d867-36c0-4bee-9260-d6839d7686a2",
   "metadata": {},
   "outputs": [
    {
     "name": "stdout",
     "output_type": "stream",
     "text": [
      "Cuartil 1 (25%): 2.75\n",
      "Cuartil 2 (50%): 4.5\n",
      "Cuartil 3 (75%): 6.25\n",
      "Rango Intercuartílico: 3.5\n",
      "Decil 7: 5.8999999999999995\n"
     ]
    }
   ],
   "source": [
    "# Cuartiles\n",
    "cuartiles = np.percentile(df_pi['cant_personas'], [25, 50, 75])\n",
    "\n",
    "# Rango Intercuartílico\n",
    "rango_intercuartilico = cuartiles[2] - cuartiles[0]\n",
    "\n",
    "# Decil 7\n",
    "decil_7 = np.percentile(df_pi['cant_personas'], 70)\n",
    "\n",
    "print(\"Cuartil 1 (25%):\", cuartiles[0])\n",
    "print(\"Cuartil 2 (50%):\", cuartiles[1])  # Mediana\n",
    "print(\"Cuartil 3 (75%):\", cuartiles[2])\n",
    "print(\"Rango Intercuartílico:\", rango_intercuartilico)\n",
    "print(\"Decil 7:\", decil_7)\n"
   ]
  },
  {
   "cell_type": "code",
   "execution_count": 130,
   "id": "c9715d12-8b58-4bbf-89e1-e04431ad6fdf",
   "metadata": {},
   "outputs": [
    {
     "name": "stdout",
     "output_type": "stream",
     "text": [
      "[0     63.6804\n",
      "1    127.3608\n",
      "2    176.8900\n",
      "3    141.5120\n",
      "4     99.0584\n",
      "5     35.3780\n",
      "6     42.4536\n",
      "7     21.2268\n",
      "Name: cant_casas, dtype: float64, 0    24.8004\n",
      "1    49.6008\n",
      "2    68.8900\n",
      "3    55.1120\n",
      "4    38.5784\n",
      "5    13.7780\n",
      "6    16.5336\n",
      "7     8.2668\n",
      "Name: cant_casas, dtype: float64, 0     3.9204\n",
      "1     7.8408\n",
      "2    10.8900\n",
      "3     8.7120\n",
      "4     6.0984\n",
      "5     2.1780\n",
      "6     2.6136\n",
      "7     1.3068\n",
      "Name: cant_casas, dtype: float64, 0    1.0404\n",
      "1    2.0808\n",
      "2    2.8900\n",
      "3    2.3120\n",
      "4    1.6184\n",
      "5    0.5780\n",
      "6    0.6936\n",
      "7    0.3468\n",
      "Name: cant_casas, dtype: float64, 0    16.1604\n",
      "1    32.3208\n",
      "2    44.8900\n",
      "3    35.9120\n",
      "4    25.1384\n",
      "5     8.9780\n",
      "6    10.7736\n",
      "7     5.3868\n",
      "Name: cant_casas, dtype: float64, 0     49.2804\n",
      "1     98.5608\n",
      "2    136.8900\n",
      "3    109.5120\n",
      "4     76.6584\n",
      "5     27.3780\n",
      "6     32.8536\n",
      "7     16.4268\n",
      "Name: cant_casas, dtype: float64, 0    100.4004\n",
      "1    200.8008\n",
      "2    278.8900\n",
      "3    223.1120\n",
      "4    156.1784\n",
      "5     55.7780\n",
      "6     66.9336\n",
      "7     33.4668\n",
      "Name: cant_casas, dtype: float64, 0    169.5204\n",
      "1    339.0408\n",
      "2    470.8900\n",
      "3    376.7120\n",
      "4    263.6984\n",
      "5     94.1780\n",
      "6    113.0136\n",
      "7     56.5068\n",
      "Name: cant_casas, dtype: float64]\n",
      "Varianza Muestral Manual de cant_casas: 47.6448\n"
     ]
    }
   ],
   "source": [
    "# Paso 2: Calcular las diferencias al cuadrado\n",
    "diferencias_cuadradas_casas = [((x - promedio) ** 2)*df_pi['cant_casas'] for x in df_pi['cant_personas']]\n",
    "print(diferencias_cuadradas_casas)\n",
    "\n",
    "# Paso 3: Calcular la varianza muestral\n",
    "varianza_muestral_casas_manual = np.sum(diferencias_cuadradas_casas) / (cantidad)\n",
    "\n",
    "print(\"Varianza Muestral Manual de cant_casas:\", varianza_muestral_casas_manual)"
   ]
  },
  {
   "cell_type": "code",
   "execution_count": null,
   "id": "35824331-afc1-4bdd-981e-42bec5e89004",
   "metadata": {},
   "outputs": [],
   "source": []
  }
 ],
 "metadata": {
  "kernelspec": {
   "display_name": "Python 3 (ipykernel)",
   "language": "python",
   "name": "python3"
  },
  "language_info": {
   "codemirror_mode": {
    "name": "ipython",
    "version": 3
   },
   "file_extension": ".py",
   "mimetype": "text/x-python",
   "name": "python",
   "nbconvert_exporter": "python",
   "pygments_lexer": "ipython3",
   "version": "3.12.4"
  }
 },
 "nbformat": 4,
 "nbformat_minor": 5
}
